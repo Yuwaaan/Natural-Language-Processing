{
 "cells": [
  {
   "cell_type": "code",
   "execution_count": 6,
   "id": "8fa47fa3",
   "metadata": {},
   "outputs": [],
   "source": [
    "x = 'You are a girl'"
   ]
  },
  {
   "cell_type": "code",
   "execution_count": 7,
   "id": "a6422458",
   "metadata": {},
   "outputs": [
    {
     "data": {
      "text/plain": [
       "['You are a girl']"
      ]
     },
     "execution_count": 7,
     "metadata": {},
     "output_type": "execute_result"
    }
   ],
   "source": [
    "is_string = type(x) == str  \n",
    "if is_string:\n",
    "    x = [x]\n",
    "x"
   ]
  },
  {
   "cell_type": "code",
   "execution_count": 11,
   "id": "561c744c",
   "metadata": {
    "scrolled": true
   },
   "outputs": [
    {
     "ename": "NameError",
     "evalue": "name 'predict_tag' is not defined",
     "output_type": "error",
     "traceback": [
      "\u001b[1;31m---------------------------------------------------------------------------\u001b[0m",
      "\u001b[1;31mNameError\u001b[0m                                 Traceback (most recent call last)",
      "\u001b[1;32mC:\\Users\\NEKO_M~1\\AppData\\Local\\Temp/ipykernel_13716/745244826.py\u001b[0m in \u001b[0;36m<module>\u001b[1;34m\u001b[0m\n\u001b[0;32m      9\u001b[0m         \u001b[0mtokens\u001b[0m \u001b[1;33m=\u001b[0m \u001b[0msample\u001b[0m\u001b[1;33m\u001b[0m\u001b[1;33m\u001b[0m\u001b[0m\n\u001b[0;32m     10\u001b[0m     \u001b[1;32mfor\u001b[0m \u001b[0mtoken\u001b[0m \u001b[1;32min\u001b[0m \u001b[0mtokens\u001b[0m\u001b[1;33m:\u001b[0m\u001b[1;33m\u001b[0m\u001b[1;33m\u001b[0m\u001b[0m\n\u001b[1;32m---> 11\u001b[1;33m         \u001b[0mprediction\u001b[0m\u001b[1;33m,\u001b[0m \u001b[0mcount\u001b[0m \u001b[1;33m=\u001b[0m \u001b[0mpredict_tag\u001b[0m\u001b[1;33m(\u001b[0m\u001b[0mtoken\u001b[0m\u001b[1;33m,\u001b[0m \u001b[0mparams\u001b[0m\u001b[1;33m)\u001b[0m\u001b[1;33m\u001b[0m\u001b[1;33m\u001b[0m\u001b[0m\n\u001b[0m\u001b[0;32m     12\u001b[0m         \u001b[0msample_preds\u001b[0m\u001b[1;33m.\u001b[0m\u001b[0mappend\u001b[0m\u001b[1;33m(\u001b[0m\u001b[1;33m(\u001b[0m\u001b[0mtoken\u001b[0m\u001b[1;33m,\u001b[0m \u001b[0mprediction\u001b[0m\u001b[1;33m,\u001b[0m \u001b[0mcount\u001b[0m\u001b[1;33m)\u001b[0m\u001b[1;33m)\u001b[0m\u001b[1;33m\u001b[0m\u001b[1;33m\u001b[0m\u001b[0m\n\u001b[0;32m     13\u001b[0m     \u001b[0mpreds\u001b[0m\u001b[1;33m.\u001b[0m\u001b[0mappend\u001b[0m\u001b[1;33m(\u001b[0m\u001b[0msample_preds\u001b[0m\u001b[1;33m)\u001b[0m\u001b[1;33m\u001b[0m\u001b[1;33m\u001b[0m\u001b[0m\n",
      "\u001b[1;31mNameError\u001b[0m: name 'predict_tag' is not defined"
     ]
    }
   ],
   "source": [
    "preds = []\n",
    "for sample in x:\n",
    "    sample_preds = []\n",
    "    if type(sample) == str:\n",
    "        # note that this may not match the dataset tokenization\n",
    "        tokens = sample.split()\n",
    "    else:\n",
    "        # this sample is already tokenized\n",
    "        tokens = sample\n",
    "    for token in tokens:\n",
    "        prediction, count = predict_tag(token, params)\n",
    "        sample_preds.append((token, prediction, count))\n",
    "    preds.append(sample_preds)\n",
    "preds"
   ]
  },
  {
   "cell_type": "code",
   "execution_count": null,
   "id": "a3174521",
   "metadata": {},
   "outputs": [],
   "source": [
    "freq = {'noun': 3, 'verb': 2, 'Det': 4}"
   ]
  },
  {
   "cell_type": "code",
   "execution_count": 52,
   "id": "6d913b7c",
   "metadata": {},
   "outputs": [
    {
     "data": {
      "text/plain": [
       "{'This': {'DET': 1},\n",
       " 'item': {'NOUN': 1},\n",
       " 'is': {'AUX': 1},\n",
       " 'coin': {'VERB': 1, 'NOUN': 2},\n",
       " '.': {'PUNCT': 1}}"
      ]
     },
     "execution_count": 52,
     "metadata": {},
     "output_type": "execute_result"
    }
   ],
   "source": [
    "model_params = {}\n",
    "count_token = {}\n",
    "tokens = [\"This\", \"item\", \"is\", \"coin\", \"coin\", \"coin\", \".\"]\n",
    "tags = [\"DET\", \"NOUN\", \"AUX\", \"VERB\", \"NOUN\", \"NOUN\", \"PUNCT\"]\n",
    "for i in range(len(tokens)):\n",
    "    token = tokens[i]\n",
    "    tag = tags[i]\n",
    "    count_token.setdefault(token, 0)\n",
    "    count_token[token] += 1\n",
    "    model_params.setdefault(token, {}).setdefault(tag, 0)\n",
    "    model_params[token][tag] += 1\n",
    "    \n",
    "model_params"
   ]
  },
  {
   "cell_type": "code",
   "execution_count": 53,
   "id": "46f3bceb",
   "metadata": {},
   "outputs": [
    {
     "data": {
      "text/plain": [
       "{'This': 1, 'item': 1, 'is': 1, 'coin': 3, '.': 1}"
      ]
     },
     "execution_count": 53,
     "metadata": {},
     "output_type": "execute_result"
    }
   ],
   "source": [
    "count_token"
   ]
  },
  {
   "cell_type": "code",
   "execution_count": 55,
   "id": "edbf75a7",
   "metadata": {
    "scrolled": true
   },
   "outputs": [
    {
     "data": {
      "text/plain": [
       "{'This': {'DET': 1.0},\n",
       " 'item': {'NOUN': 1.0},\n",
       " 'is': {'AUX': 1.0},\n",
       " 'coin': {'VERB': 0.3333333333333333, 'NOUN': 0.6666666666666666},\n",
       " '.': {'PUNCT': 1.0}}"
      ]
     },
     "execution_count": 55,
     "metadata": {},
     "output_type": "execute_result"
    }
   ],
   "source": [
    "for token in model_params:\n",
    "    for tag in model_params[token]:\n",
    "        model_params[token][tag] = model_params[token][tag] / count_token[token]\n",
    "model_params"
   ]
  },
  {
   "cell_type": "code",
   "execution_count": 65,
   "id": "8a94fe39",
   "metadata": {},
   "outputs": [
    {
     "data": {
      "text/plain": [
       "{'This': {'DET': 1.0},\n",
       " 'item': {'NOUN': 1.0},\n",
       " 'is': {'AUX': 1.0},\n",
       " 'coin': {'NOUN': 0.6666666666666666},\n",
       " '.': {'PUNCT': 1.0}}"
      ]
     },
     "execution_count": 65,
     "metadata": {},
     "output_type": "execute_result"
    }
   ],
   "source": [
    "most_freq = {}\n",
    "tag_freq = 0\n",
    "for token in model_params:\n",
    "    for tag in model_params[token]:\n",
    "        if model_params[token][tag] > tag_freq:\n",
    "            tag_freq = model_params[token][tag]\n",
    "            if token in most_freq:\n",
    "                del most_freq[token]\n",
    "            most_freq.setdefault(token, {}).setdefault(tag,tag_freq)\n",
    "    tag_freq = 0\n",
    "\n",
    "# model_params\n",
    "most_freq"
   ]
  },
  {
   "cell_type": "code",
   "execution_count": 76,
   "id": "0a20eda3",
   "metadata": {},
   "outputs": [
    {
     "name": "stdout",
     "output_type": "stream",
     "text": [
      "NOUN 0.6666666666666666\n"
     ]
    }
   ],
   "source": [
    "for tag in most_freq['coin']:\n",
    "    tag_pred = tag\n",
    "    tag_count = most_freq['coin'][tag]\n",
    "print(tag_pred, tag_count)"
   ]
  },
  {
   "cell_type": "code",
   "execution_count": 79,
   "id": "2c30a62d",
   "metadata": {},
   "outputs": [
    {
     "data": {
      "text/plain": [
       "{'This': {'DET': 1},\n",
       " 'item': {'NOUN': 1},\n",
       " 'is': {'AUX': 1},\n",
       " 'coin': {'VERB': 1, 'NOUN': 2},\n",
       " '.': {'PUNCT': 1}}"
      ]
     },
     "execution_count": 79,
     "metadata": {},
     "output_type": "execute_result"
    }
   ],
   "source": [
    "model_params = {}\n",
    "count_token = {}\n",
    "tokens = [\"This\", \"item\", \"is\", \"coin\", \"coin\", \"coin\", \".\"]\n",
    "tags = [\"DET\", \"NOUN\", \"AUX\", \"VERB\", \"NOUN\", \"NOUN\", \"PUNCT\"]\n",
    "for i in range(len(tokens)):\n",
    "    token = tokens[i]\n",
    "    tag = tags[i]\n",
    "    count_token.setdefault(token, 0)\n",
    "    count_token[token] += 1\n",
    "    model_params.setdefault(token, {}).setdefault(tag, 0)\n",
    "    model_params[token][tag] += 1\n",
    "    \n",
    "most_freq = {}\n",
    "tag_freq = 0\n",
    "for token in model_params:\n",
    "    for tag in model_params[token]:\n",
    "        if model_params[token][tag] > tag_freq:\n",
    "            tag_freq = model_params[token][tag]\n",
    "            if token in most_freq:\n",
    "                del most_freq[token]\n",
    "            most_freq.setdefault(token, {}).setdefault(tag,tag_freq)\n",
    "    tag_freq = 0\n",
    "\n",
    "model_params\n",
    "# most_freq"
   ]
  },
  {
   "cell_type": "code",
   "execution_count": 80,
   "id": "1b58a42d",
   "metadata": {},
   "outputs": [
    {
     "data": {
      "text/plain": [
       "{'This': {'DET': 1},\n",
       " 'item': {'NOUN': 1},\n",
       " 'is': {'AUX': 1},\n",
       " 'coin': {'NOUN': 2},\n",
       " '.': {'PUNCT': 1}}"
      ]
     },
     "execution_count": 80,
     "metadata": {},
     "output_type": "execute_result"
    }
   ],
   "source": [
    "most_freq"
   ]
  },
  {
   "cell_type": "code",
   "execution_count": null,
   "id": "faf4a41c",
   "metadata": {},
   "outputs": [],
   "source": []
  }
 ],
 "metadata": {
  "kernelspec": {
   "display_name": "Python 3 (ipykernel)",
   "language": "python",
   "name": "python3"
  },
  "language_info": {
   "codemirror_mode": {
    "name": "ipython",
    "version": 3
   },
   "file_extension": ".py",
   "mimetype": "text/x-python",
   "name": "python",
   "nbconvert_exporter": "python",
   "pygments_lexer": "ipython3",
   "version": "3.7.3"
  }
 },
 "nbformat": 4,
 "nbformat_minor": 5
}
